{
 "cells": [
  {
   "cell_type": "code",
   "execution_count": 21,
   "metadata": {},
   "outputs": [],
   "source": [
    "#Import modules\n",
    "import pandas as pd\n",
    "from sklearn.naive_bayes import GaussianNB\n"
   ]
  },
  {
   "cell_type": "code",
   "execution_count": 22,
   "metadata": {
    "scrolled": true
   },
   "outputs": [],
   "source": [
    "#Read data\n",
    "dfTrain = pd.read_csv(\"C:\\\\Users\\\\Ashish\\\\Desktop\\\\Titanic\\\\train.csv\")\n",
    "dfTest = pd.read_csv(\"C:\\\\Users\\\\Ashish\\\\Desktop\\\\Titanic\\\\test.csv\")"
   ]
  },
  {
   "cell_type": "code",
   "execution_count": 23,
   "metadata": {},
   "outputs": [],
   "source": [
    "#Create categories for age \n",
    "dfTrain[\"CAge\"]=pd.cut(dfTrain[\"Age\"], bins = [0,10,18,40,max(dfTrain[\"Age\"])] ,labels=[\"Child\",\"MYoung\",\"Young\",\"Older\"])\n",
    "dfTest[\"CAge\"]=pd.cut(dfTest[\"Age\"], bins = [0,10,18,40,max(dfTest[\"Age\"])] ,labels=[\"Child\",\"MYoung\",\"Young\",\"Older\"])\n",
    "#print(dfTrain.head(5))\n",
    "#print(dfTest.head(5))"
   ]
  },
  {
   "cell_type": "code",
   "execution_count": 24,
   "metadata": {},
   "outputs": [
    {
     "name": "stdout",
     "output_type": "stream",
     "text": [
      "0    0\n",
      "1    1\n",
      "2    1\n",
      "3    1\n",
      "4    0\n",
      "Name: Survived, dtype: int64\n"
     ]
    }
   ],
   "source": [
    "#Creates dummy variables for categorical variables\n",
    "dfTrain= pd.get_dummies(data = dfTrain, dummy_na=True, prefix= [\"Pclass\",\"Sex\",\"Embarked\",\"Age\"] ,columns=[\"Pclass\",\"Sex\",\"Embarked\",\"CAge\"])\n",
    "dfTest= pd.get_dummies(data = dfTest, dummy_na=True, prefix= [\"Pclass\",\"Sex\",\"Embarked\",\"Age\"] ,columns=[\"Pclass\",\"Sex\",\"Embarked\",\"CAge\"])\n",
    "\n",
    "#Store the train outcomes for survived passengers\n",
    "Y_Train = dfTrain[\"Survived\"]\n",
    "#print(Y_Train.head(5))"
   ]
  },
  {
   "cell_type": "code",
   "execution_count": 25,
   "metadata": {},
   "outputs": [],
   "source": [
    "submission = pd.DataFrame()\n",
    "submission[\"PassengerId\"] = dfTrain[\"PassengerId\"]\n",
    "\n",
    "#Only selects columns necessary\n",
    "dfTrain=dfTrain[dfTrain.columns.difference([\"Age\",\"Survived\",\"PassengerId\",\"Name\",\"Ticket\",\"Cabin\"])]\n",
    "dfTest=dfTest[dfTest.columns.difference([\"Age\",\"PassengerId\",\"Name\",\"Ticket\",\"Cabin\"])]\n",
    "\n",
    "#Provides median values to Nan values\n",
    "dfTest[\"Fare\"].iloc[dfTest[dfTest[\"Fare\"].isnull()].index] = dfTest[dfTest[\"Pclass_3.0\"]==1][\"Fare\"].median()"
   ]
  },
  {
   "cell_type": "code",
   "execution_count": 26,
   "metadata": {},
   "outputs": [
    {
     "data": {
      "text/plain": [
       "GaussianNB(priors=None, var_smoothing=1e-09)"
      ]
     },
     "execution_count": 26,
     "metadata": {},
     "output_type": "execute_result"
    }
   ],
   "source": [
    "#Fit Naive Bayes Model\n",
    "clf = GaussianNB()\n",
    "clf.fit(dfTrain, Y_Train)"
   ]
  },
  {
   "cell_type": "code",
   "execution_count": 28,
   "metadata": {},
   "outputs": [
    {
     "data": {
      "text/html": [
       "<div>\n",
       "<style scoped>\n",
       "    .dataframe tbody tr th:only-of-type {\n",
       "        vertical-align: middle;\n",
       "    }\n",
       "\n",
       "    .dataframe tbody tr th {\n",
       "        vertical-align: top;\n",
       "    }\n",
       "\n",
       "    .dataframe thead th {\n",
       "        text-align: right;\n",
       "    }\n",
       "</style>\n",
       "<table border=\"1\" class=\"dataframe\">\n",
       "  <thead>\n",
       "    <tr style=\"text-align: right;\">\n",
       "      <th></th>\n",
       "      <th>PassengerId</th>\n",
       "      <th>Survived</th>\n",
       "    </tr>\n",
       "  </thead>\n",
       "  <tbody>\n",
       "    <tr>\n",
       "      <th>0</th>\n",
       "      <td>1</td>\n",
       "      <td>0</td>\n",
       "    </tr>\n",
       "    <tr>\n",
       "      <th>1</th>\n",
       "      <td>2</td>\n",
       "      <td>0</td>\n",
       "    </tr>\n",
       "    <tr>\n",
       "      <th>2</th>\n",
       "      <td>3</td>\n",
       "      <td>0</td>\n",
       "    </tr>\n",
       "    <tr>\n",
       "      <th>3</th>\n",
       "      <td>4</td>\n",
       "      <td>0</td>\n",
       "    </tr>\n",
       "    <tr>\n",
       "      <th>4</th>\n",
       "      <td>5</td>\n",
       "      <td>0</td>\n",
       "    </tr>\n",
       "    <tr>\n",
       "      <th>5</th>\n",
       "      <td>6</td>\n",
       "      <td>0</td>\n",
       "    </tr>\n",
       "    <tr>\n",
       "      <th>6</th>\n",
       "      <td>7</td>\n",
       "      <td>0</td>\n",
       "    </tr>\n",
       "    <tr>\n",
       "      <th>7</th>\n",
       "      <td>8</td>\n",
       "      <td>0</td>\n",
       "    </tr>\n",
       "    <tr>\n",
       "      <th>8</th>\n",
       "      <td>9</td>\n",
       "      <td>1</td>\n",
       "    </tr>\n",
       "    <tr>\n",
       "      <th>9</th>\n",
       "      <td>10</td>\n",
       "      <td>0</td>\n",
       "    </tr>\n",
       "  </tbody>\n",
       "</table>\n",
       "</div>"
      ],
      "text/plain": [
       "   PassengerId  Survived\n",
       "0            1         0\n",
       "1            2         0\n",
       "2            3         0\n",
       "3            4         0\n",
       "4            5         0\n",
       "5            6         0\n",
       "6            7         0\n",
       "7            8         0\n",
       "8            9         1\n",
       "9           10         0"
      ]
     },
     "execution_count": 28,
     "metadata": {},
     "output_type": "execute_result"
    }
   ],
   "source": [
    "#Csv file of output results\n",
    "pred = pd.DataFrame(clf.predict(dfTest),columns=[\"Survived\"])\n",
    "submission = submission.join(pred, how = \"inner\")\n",
    "submission.to_csv(\"C:\\\\Users\\\\Ashish\\\\Desktop\\\\Titanic\\\\output.csv\", index = False )"
   ]
  },
  {
   "cell_type": "code",
   "execution_count": null,
   "metadata": {},
   "outputs": [],
   "source": []
  }
 ],
 "metadata": {
  "kernelspec": {
   "display_name": "Python 3",
   "language": "python",
   "name": "python3"
  },
  "language_info": {
   "codemirror_mode": {
    "name": "ipython",
    "version": 3
   },
   "file_extension": ".py",
   "mimetype": "text/x-python",
   "name": "python",
   "nbconvert_exporter": "python",
   "pygments_lexer": "ipython3",
   "version": "3.7.1"
  }
 },
 "nbformat": 4,
 "nbformat_minor": 2
}

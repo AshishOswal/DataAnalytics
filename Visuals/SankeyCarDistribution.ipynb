{
 "cells": [
  {
   "cell_type": "code",
   "execution_count": 87,
   "metadata": {
    "scrolled": false
   },
   "outputs": [
    {
     "data": {
      "text/html": [
       "<iframe id=\"igraph\" scrolling=\"no\" style=\"border:none;\" seamless=\"seamless\" src=\"https://plot.ly/~ashishoswal94/152.embed\" height=\"525px\" width=\"100%\"></iframe>"
      ],
      "text/plain": [
       "<plotly.tools.PlotlyDisplay object>"
      ]
     },
     "execution_count": 87,
     "metadata": {},
     "output_type": "execute_result"
    }
   ],
   "source": [
    "import plotly.plotly as py\n",
    "import plotly\n",
    "plotly.tools.set_credentials_file(username = 'ashishoswal94', api_key='VklNSLHOakZ6h4dc8C5k')\n",
    "\n",
    "values = [0.98,92.92,6.11,0.98,38.48,54.44,5.52,0.58,0.01]\n",
    "\n",
    "data = dict(\n",
    "    type='sankey',\n",
    "    node = dict(\n",
    "      pad = 15,\n",
    "      thickness = 20,\n",
    "      line = dict(\n",
    "        color = \"white\",\n",
    "        width = 0.5\n",
    "      ),\n",
    "      label = [\"Passenger Cars \", \"Renewable : {0}\".format(str(values[0]) +'%'), \"Non-Renewable : {0}\".format(str(values[1]) +'%'), \"Hybrid : {0}\".format(str(values[2]) +'%'), \"Petrol : {0}\".format(str(values[4]) +'%'), \"Diesel : {0}\".format(str(values[5]) +'%'), \"Petrol Electric : {0}\".format(str(values[6]) +'%'), \"Electric : {0}\".format(str(values[0]) +'%'), \"Petrol PlugIn : {0}\".format(str(values[7]) +'%'), \"Diesel PlugIn : {0}\".format(str(values[8]) +'%')],\n",
    "      color = [\"#76b7b2\", \"#59a14f\", \"#e19697\", \"#99bfe6\", \"#e15759\", \"#9c755f\",\"#4e79a7\",\"#467d3d\",\"#4e79a7\", \"#4e79a7\"]\n",
    "    ),\n",
    "    link = dict(\n",
    "      source = [0,0,0,1,2,2,3,3,3],\n",
    "      target = [1,2,3,7,4,5,6,8,9],\n",
    "      value =  values\n",
    "  ))\n",
    "\n",
    "layout =  dict(\n",
    "    title = \"<b>Distribution of Passenger Cars in Republic of Ireland (2018)</b>\",\n",
    "    font = dict(\n",
    "      size = 12\n",
    "    ),\n",
    "    titlefont=dict(    \n",
    "            size=20,\n",
    "        )\n",
    "\n",
    "    \n",
    ")\n",
    "\n",
    "fig = dict(data=[data], layout=layout)\n",
    "py.iplot(fig, validate=False)"
   ]
  },
  {
   "cell_type": "code",
   "execution_count": null,
   "metadata": {},
   "outputs": [],
   "source": []
  }
 ],
 "metadata": {
  "kernelspec": {
   "display_name": "Python 3",
   "language": "python",
   "name": "python3"
  },
  "language_info": {
   "codemirror_mode": {
    "name": "ipython",
    "version": 3
   },
   "file_extension": ".py",
   "mimetype": "text/x-python",
   "name": "python",
   "nbconvert_exporter": "python",
   "pygments_lexer": "ipython3",
   "version": "3.7.1"
  }
 },
 "nbformat": 4,
 "nbformat_minor": 2
}

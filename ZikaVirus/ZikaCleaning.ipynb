{
 "cells": [
  {
   "cell_type": "markdown",
   "metadata": {},
   "source": [
    "# Cleaning of Zika Virus Data"
   ]
  },
  {
   "cell_type": "markdown",
   "metadata": {},
   "source": [
    "## Cleaning and Preprocessing\n",
    "* Combine all files into a single large dataframe\n",
    "* As data is in form of files for each week, these datsets do not have a date column. So we extract this information from the file and then append the individual datasets to create a big dataframe."
   ]
  },
  {
   "cell_type": "code",
   "execution_count": 113,
   "metadata": {},
   "outputs": [],
   "source": [
    "import pandas as pd\n",
    "import glob\n",
    "import os\n",
    "import warnings\n",
    "warnings.filterwarnings(\"ignore\", category=FutureWarning)\n",
    "\n",
    "source_address = \"C:\\\\Users\\\\Ashish\\\\Desktop\\\\DataVis\\\\zika-data-master\\\\zika-data-master\\\\data\\\\parsed\\\\cdc\\\\\"\n",
    "os.chdir(source_address)\n",
    "glob.glob( \"cdc-state-case-counts-*.csv\")\n",
    "\n",
    "list_of_dfs = [pd.read_csv(filename) for filename in filenames]\n",
    "for dataframe, filename in zip(list_of_dfs, filenames):\n",
    "    dataframe['filename'] = filename\n",
    "combined_df = pd.concat(list_of_dfs, ignore_index=True)\n",
    "\n",
    "combined_df['filename'] = combined_df['filename'].map(lambda x: str(x)[22:])\n",
    "combined_df['filename'] = combined_df['filename'].map(lambda x: str(x)[:-4])"
   ]
  },
  {
   "cell_type": "markdown",
   "metadata": {},
   "source": [
    "## Cleaning of data\n",
    "* Separate date column into day, month, year\n",
    "* Replace NaN values in data frame"
   ]
  },
  {
   "cell_type": "code",
   "execution_count": 114,
   "metadata": {},
   "outputs": [],
   "source": [
    "combined_df[['year', 'month', 'day']] = combined_df['filename'].str.split(\"-\",expand = True)\n",
    "combined_df = combined_df.fillna(0)\n",
    "\n",
    "order = [3,6,7,8,1,2,4,5]\n",
    "months_str = {\n",
    "    \"01\" : \"Jan\" ,\n",
    "    \"02\" : \"Feb\" ,\n",
    "    \"03\" : \"Mar\" ,\n",
    "    \"04\" : \"Apr\" ,\n",
    "    \"05\" : \"May\" ,\n",
    "    \"06\" : \"Jun\" ,\n",
    "    \"07\" : \"Jul\" ,\n",
    "    \"08\" : \"Aug\" ,\n",
    "    \"09\" : \"Sep\" ,\n",
    "    \"10\" : \"Oct\",\n",
    "    \"11\" : \"Nov\",\n",
    "    \"12\" : \"Dec\"\n",
    "}\n",
    "\n",
    "combined_df = combined_df[combined_df.columns[order]]\n",
    "combined_df['day'] = pd.to_numeric(combined_df['day'])\n",
    "combined_df.month = combined_df.month.map(months_str)\n",
    "combined_df.to_csv(\"C:\\\\Users\\\\Ashish\\\\Desktop\\\\DataVis\\\\zika-data-master\\\\ZikaUSACleaned.csv\", index = False)"
   ]
  },
  {
   "cell_type": "code",
   "execution_count": null,
   "metadata": {},
   "outputs": [],
   "source": []
  }
 ],
 "metadata": {
  "kernelspec": {
   "display_name": "Python 3",
   "language": "python",
   "name": "python3"
  },
  "language_info": {
   "codemirror_mode": {
    "name": "ipython",
    "version": 3
   },
   "file_extension": ".py",
   "mimetype": "text/x-python",
   "name": "python",
   "nbconvert_exporter": "python",
   "pygments_lexer": "ipython3",
   "version": "3.7.1"
  }
 },
 "nbformat": 4,
 "nbformat_minor": 2
}
